{
  "nbformat": 4,
  "nbformat_minor": 0,
  "metadata": {
    "colab": {
      "name": "jumpnet.ipynb",
      "provenance": [],
      "authorship_tag": "ABX9TyPgQi0X1Q9Xgnjt1eqz0IWv",
      "include_colab_link": true
    },
    "kernelspec": {
      "name": "python3",
      "display_name": "Python 3"
    },
    "accelerator": "GPU"
  },
  "cells": [
    {
      "cell_type": "markdown",
      "metadata": {
        "id": "view-in-github",
        "colab_type": "text"
      },
      "source": [
        "<a href=\"https://colab.research.google.com/github/bbi-yggy/keras-jumpnet/blob/main/jumpnet.ipynb\" target=\"_parent\"><img src=\"https://colab.research.google.com/assets/colab-badge.svg\" alt=\"Open In Colab\"/></a>"
      ]
    },
    {
      "cell_type": "markdown",
      "metadata": {
        "id": "QlvAiLRz9C45"
      },
      "source": [
        "# Implementing JumpNet and training with CIFAR-10\n",
        "Deep Learning for Computer Vision (Cohort #5)  \n",
        "Yossarian King / Blackbird Interactive / October 2020\n",
        "\n",
        "The JumpNet implementation is based on the description from [keras-idiomatic-programmer/zoo/jumpnet](https://github.com/GoogleCloudPlatform/keras-idiomatic-programmer/tree/master/zoo/jumpnet).\n",
        "\n",
        "The implementation is in the idiomatic style - stem > learner > classifier.\n",
        "The learner consists of groups, each composed of blocks, as illustrated here:\n",
        "\n",
        "![JumpNet diagram](https://github.com/GoogleCloudPlatform/keras-idiomatic-programmer/blob/master/zoo/jumpnet/macro.jpg?raw=true)\n",
        "\n",
        "For clarity of implementation, the code has been built as a class with a fluent API, allowing all model metaparameters to be fed into fluent method calls as named parameters. This makes the model structure explicit and the parameters clear, and enables flexible use to build different models in the JumpNet style.\n",
        "\n",
        "Metaparameters used in this notebook precisely mimic the model built by [jumpnet_c.py](https://github.com/GoogleCloudPlatform/keras-idiomatic-programmer/tree/master/zoo/jumpnet/jumpnet_c.py) (see the comment \"Example of JumpNet for CIFAR-10\").\n",
        "\n",
        "The model is trained on [CIFAR-10 dataset](https://www.cs.toronto.edu/~kriz/cifar.html).\n"
      ]
    },
    {
      "cell_type": "code",
      "metadata": {
        "id": "FvItX2h59BB-"
      },
      "source": [
        ""
      ],
      "execution_count": null,
      "outputs": []
    }
  ]
}